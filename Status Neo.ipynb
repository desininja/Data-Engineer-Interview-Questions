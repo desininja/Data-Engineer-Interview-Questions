{
 "cells": [
  {
   "cell_type": "code",
   "execution_count": null,
   "metadata": {},
   "outputs": [],
   "source": [
    "target_size_mb = 256  # Size of each partition in MB\n",
    "total_size_gb = 500  # Total size of data in GB\n",
    "\n",
    "workers = 100\n",
    "5 GB each \n",
    "\n",
    "\n",
    "\n",
    "num_partitions = #complete this \n",
    "# in each partition we have 5 gb of data. target file should be between 256 mb \n",
    "\n",
    "df = df.repartition(num_partitions)"
   ]
  },
  {
   "cell_type": "code",
   "execution_count": 1,
   "metadata": {},
   "outputs": [
    {
     "data": {
      "text/plain": [
       "2000.0"
      ]
     },
     "execution_count": 1,
     "metadata": {},
     "output_type": "execute_result"
    }
   ],
   "source": [
    "500*1024/256"
   ]
  },
  {
   "cell_type": "code",
   "execution_count": null,
   "metadata": {},
   "outputs": [],
   "source": [
    "1 DPU 4 vcpus, 16 GB memory\n",
    "g1x -> 4 vcpus , 16GB , 64SSD \n",
    "2 DPUS,  \n",
    "\n",
    "input data 120 GB\n",
    "\n",
    "memory = 32 GB\n",
    "ssd = 128 GB\n",
    "vcpus= 8 \n",
    "\n",
    "DPU_1 = 60 GB\n",
    "DPU_2 = 60 GB\n",
    "\n",
    "df=spark.read.parquet(s3 location inp)\n",
    "df.write.parquet(s3 location out)\n",
    "\n",
    "\n"
   ]
  },
  {
   "cell_type": "code",
   "execution_count": null,
   "metadata": {},
   "outputs": [],
   "source": [
    "redshift\n",
    "\n",
    "\n",
    "parti\n",
    "    \n",
    "    \n",
    "    "
   ]
  },
  {
   "cell_type": "code",
   "execution_count": null,
   "metadata": {},
   "outputs": [],
   "source": [
    "df1-> cloumns -> item quantity price_in_usd\n",
    "\n",
    "df2-> column -> item quantity price_in_usd , price_in_inr "
   ]
  },
  {
   "cell_type": "code",
   "execution_count": null,
   "metadata": {},
   "outputs": [],
   "source": [
    "from pyspark.sql import functions as F\n",
    "from pyspark.sql import Window\n",
    "\n",
    "df2 = df1.withColumn(\"price_in_inr\", F.col(\"price_in_usd\")*change_rate)\n",
    "\n",
    "#df1 column -> sold_date when item was sold, based on number of items, ranked based on most sold items"
   ]
  },
  {
   "cell_type": "code",
   "execution_count": null,
   "metadata": {},
   "outputs": [],
   "source": [
    "df_count = df1.groupBy(F.col('item')).count()"
   ]
  },
  {
   "cell_type": "code",
   "execution_count": null,
   "metadata": {},
   "outputs": [],
   "source": [
    "window = Window(orderBy('count').desc())"
   ]
  },
  {
   "cell_type": "code",
   "execution_count": null,
   "metadata": {},
   "outputs": [],
   "source": [
    "df_ranks = df_count.withColumn(\"item_rank\",F.dense_rank().window)"
   ]
  },
  {
   "cell_type": "code",
   "execution_count": null,
   "metadata": {},
   "outputs": [],
   "source": [
    "df_ranks.select(\"item\",\"item_rank\").orderBy('item_rank').show()"
   ]
  },
  {
   "cell_type": "code",
   "execution_count": null,
   "metadata": {},
   "outputs": [],
   "source": []
  },
  {
   "cell_type": "code",
   "execution_count": 2,
   "metadata": {},
   "outputs": [],
   "source": [
    "inpt = [1, 2, 2, 3, 4, 3, 5, 1]\n",
    "#Output: [1, 2, 3, 4, 5]"
   ]
  },
  {
   "cell_type": "code",
   "execution_count": 6,
   "metadata": {},
   "outputs": [],
   "source": [
    "ll = set(inpt)"
   ]
  },
  {
   "cell_type": "code",
   "execution_count": 9,
   "metadata": {},
   "outputs": [
    {
     "data": {
      "text/plain": [
       "[1, 2, 3, 4, 5]"
      ]
     },
     "execution_count": 9,
     "metadata": {},
     "output_type": "execute_result"
    }
   ],
   "source": [
    "list(ll)"
   ]
  },
  {
   "cell_type": "code",
   "execution_count": null,
   "metadata": {},
   "outputs": [],
   "source": [
    "opt = []\n",
    "\n",
    "big data configurations.\n"
   ]
  }
 ],
 "metadata": {
  "kernelspec": {
   "display_name": "Python 3",
   "language": "python",
   "name": "python3"
  },
  "language_info": {
   "codemirror_mode": {
    "name": "ipython",
    "version": 3
   },
   "file_extension": ".py",
   "mimetype": "text/x-python",
   "name": "python",
   "nbconvert_exporter": "python",
   "pygments_lexer": "ipython3",
   "version": "3.8.5"
  }
 },
 "nbformat": 4,
 "nbformat_minor": 4
}

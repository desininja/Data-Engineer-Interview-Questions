{
 "cells": [
  {
   "cell_type": "markdown",
   "metadata": {},
   "source": [
    "You are given two strings word1 and word2. Merge the strings by adding letters in alternating order, starting with word1. If a string is longer than the other, append the additional letters onto the end of the merged string.\n",
    "Return the merged string.\n",
    " \n",
    " \n",
    "Input: word1 = \"abc\", word2 = \"pqr\" Output: \"apbqcr\"\n",
    "\n",
    "Input: word1 = \"ab\", word2 = \"pqrs\"Output: \"apbqrs\""
   ]
  },
  {
   "cell_type": "code",
   "execution_count": 7,
   "metadata": {},
   "outputs": [
    {
     "name": "stdout",
     "output_type": "stream",
     "text": [
      "apbqrs\n"
     ]
    }
   ],
   "source": [
    "def append_func(word1,word2):\n",
    "    new_string=''\n",
    "    if len(word1) >= len(word2):\n",
    "        for i in range(len(word1)):\n",
    "            new_string+=word1[i]\n",
    "            if i < len(word2):\n",
    "                new_string+=word2[i]\n",
    "    else:\n",
    "        for i in range(len(word2)):\n",
    "            if i < len(word1):\n",
    "                new_string+=word1[i]\n",
    "            new_string+=word2[i]\n",
    "    return new_string\n",
    "\n",
    "#better approach substring from longer string\n",
    "\n",
    "word1 = \"ab\"\n",
    "word2 = \"pqrs\"\n",
    "print(append_func(word1,word2))\n",
    "    "
   ]
  },
  {
   "cell_type": "code",
   "execution_count": null,
   "metadata": {},
   "outputs": [],
   "source": []
  }
 ],
 "metadata": {
  "kernelspec": {
   "display_name": "Python 3",
   "language": "python",
   "name": "python3"
  },
  "language_info": {
   "codemirror_mode": {
    "name": "ipython",
    "version": 3
   },
   "file_extension": ".py",
   "mimetype": "text/x-python",
   "name": "python",
   "nbconvert_exporter": "python",
   "pygments_lexer": "ipython3",
   "version": "3.8.5"
  }
 },
 "nbformat": 4,
 "nbformat_minor": 4
}

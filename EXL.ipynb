{
 "cells": [
  {
   "cell_type": "code",
   "execution_count": 2,
   "metadata": {},
   "outputs": [
    {
     "name": "stdout",
     "output_type": "stream",
     "text": [
      "1,\n"
     ]
    }
   ],
   "source": [
    "input_str = '1,,,2,,,3,,,,ab,,4,,5'\n",
    "# output: 1,2,3,ab,4,5\n",
    "#remove consecutive ,\n",
    "\n",
    "def remove_comma_cons(input_str):\n",
    "    new_str =input_str[0]\n",
    "    for i in range(1,len(input_str)):\n",
    "        if new_str[-1]==',':\n",
    "            continue\n",
    "        else:\n",
    "            new_str+=input_str[i]\n",
    "    return new_str\n",
    "\n",
    "print(remove_comma_cons(input_str))"
   ]
  },
  {
   "cell_type": "code",
   "execution_count": 3,
   "metadata": {},
   "outputs": [
    {
     "data": {
      "text/plain": [
       "[1, 2, 3, 4]"
      ]
     },
     "execution_count": 3,
     "metadata": {},
     "output_type": "execute_result"
    }
   ],
   "source": [
    "#dedu\n",
    "li = [1,1,1,2,2,2,3,3,4]\n",
    "\n",
    "list(set(li))"
   ]
  },
  {
   "cell_type": "code",
   "execution_count": null,
   "metadata": {},
   "outputs": [],
   "source": []
  }
 ],
 "metadata": {
  "kernelspec": {
   "display_name": "Python 3",
   "language": "python",
   "name": "python3"
  },
  "language_info": {
   "codemirror_mode": {
    "name": "ipython",
    "version": 3
   },
   "file_extension": ".py",
   "mimetype": "text/x-python",
   "name": "python",
   "nbconvert_exporter": "python",
   "pygments_lexer": "ipython3",
   "version": "3.8.5"
  }
 },
 "nbformat": 4,
 "nbformat_minor": 4
}

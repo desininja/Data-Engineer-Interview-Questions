{
 "cells": [
  {
   "cell_type": "code",
   "execution_count": 1,
   "metadata": {},
   "outputs": [],
   "source": [
    "a = {'a':2, 'a':3}"
   ]
  },
  {
   "cell_type": "code",
   "execution_count": 2,
   "metadata": {},
   "outputs": [
    {
     "data": {
      "text/plain": [
       "{'a': 3}"
      ]
     },
     "execution_count": 2,
     "metadata": {},
     "output_type": "execute_result"
    }
   ],
   "source": [
    "a"
   ]
  },
  {
   "cell_type": "code",
   "execution_count": 3,
   "metadata": {},
   "outputs": [
    {
     "data": {
      "text/plain": [
       "'Himanshu Morning Good'"
      ]
     },
     "execution_count": 3,
     "metadata": {},
     "output_type": "execute_result"
    }
   ],
   "source": [
    "string_ = \"Good Morning Himanshu\"\n",
    "\n",
    "str_list = string_.split(\" \")\n",
    "str_list = str_list[::-1]\n",
    "new_string = \" \".join(str_list)\n",
    "new_string"
   ]
  },
  {
   "cell_type": "code",
   "execution_count": 10,
   "metadata": {},
   "outputs": [
    {
     "name": "stdout",
     "output_type": "stream",
     "text": [
      "giver Strings are NOT Anagram\n"
     ]
    }
   ],
   "source": [
    "#eat --> ate\n",
    "\n",
    "str1 = 'pat'\n",
    "str2 = 'tape'\n",
    "\n",
    "if sorted(str1)==sorted(str2):\n",
    "    print(\"given strings are anagram\")\n",
    "else:\n",
    "    print(\"giver Strings are NOT Anagram\")\n"
   ]
  },
  {
   "cell_type": "code",
   "execution_count": null,
   "metadata": {},
   "outputs": [],
   "source": [
    "<= ,>=,== difference b/w is\n",
    "\n",
    "what is the difference between == and is ??"
   ]
  },
  {
   "cell_type": "code",
   "execution_count": 1,
   "metadata": {},
   "outputs": [],
   "source": [
    "inpt_str = \"Good Morning Himanshu\"\n",
    "#output Himanshu Morning Good"
   ]
  },
  {
   "cell_type": "code",
   "execution_count": 2,
   "metadata": {},
   "outputs": [
    {
     "name": "stdout",
     "output_type": "stream",
     "text": [
      "Himanshu Morning Good\n"
     ]
    }
   ],
   "source": [
    "str_list = inpt_str.split()\n",
    "str_list = str_list[::-1]\n",
    "new_string = \" \".join(str_list)\n",
    "print(new_string)"
   ]
  },
  {
   "cell_type": "code",
   "execution_count": 6,
   "metadata": {},
   "outputs": [
    {
     "name": "stdout",
     "output_type": "stream",
     "text": [
      "Given Strings are Not Anagrams\n"
     ]
    }
   ],
   "source": [
    "#given strings are anagrams\n",
    "\n",
    "#eat --> ate\n",
    "\n",
    "str1 = 'eat'\n",
    "str2 = 'rte'\n",
    "\n",
    "def anagram_func(s1,s2):\n",
    "    if sorted(s1)==sorted(s2):\n",
    "        return \"Given Strings are anagrams\"\n",
    "    else:\n",
    "        return \"Given Strings are Not Anagrams\"\n",
    "\n",
    "print(anagram_func(str1,str2))\n"
   ]
  },
  {
   "cell_type": "code",
   "execution_count": 9,
   "metadata": {},
   "outputs": [
    {
     "name": "stdout",
     "output_type": "stream",
     "text": [
      "True\n"
     ]
    }
   ],
   "source": [
    "#what is the difference between == and is ??\n",
    "\n",
    "a = [1,2,3]\n",
    "b = [1,2,3]\n",
    "print(a == b)"
   ]
  },
  {
   "cell_type": "code",
   "execution_count": 10,
   "metadata": {},
   "outputs": [
    {
     "name": "stdout",
     "output_type": "stream",
     "text": [
      "False\n"
     ]
    }
   ],
   "source": [
    "print(a is b)"
   ]
  },
  {
   "cell_type": "code",
   "execution_count": 11,
   "metadata": {},
   "outputs": [
    {
     "name": "stdout",
     "output_type": "stream",
     "text": [
      "True\n",
      "True\n"
     ]
    }
   ],
   "source": [
    "b=a\n",
    "print(a==b)\n",
    "print(a is b)"
   ]
  },
  {
   "cell_type": "code",
   "execution_count": null,
   "metadata": {},
   "outputs": [],
   "source": []
  }
 ],
 "metadata": {
  "kernelspec": {
   "display_name": "Python 3",
   "language": "python",
   "name": "python3"
  },
  "language_info": {
   "codemirror_mode": {
    "name": "ipython",
    "version": 3
   },
   "file_extension": ".py",
   "mimetype": "text/x-python",
   "name": "python",
   "nbconvert_exporter": "python",
   "pygments_lexer": "ipython3",
   "version": "3.8.5"
  }
 },
 "nbformat": 4,
 "nbformat_minor": 4
}

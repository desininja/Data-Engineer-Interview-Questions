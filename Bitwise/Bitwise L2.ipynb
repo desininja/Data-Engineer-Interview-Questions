{
 "cells": [
  {
   "cell_type": "markdown",
   "metadata": {},
   "source": [
    "Spark questions were asked about:\n",
    "1) How to find the bottlenecks in pyspark script that is running on EMR cluster. \n",
    "2) Difference between persist and cache?\n",
    "3) What is Spark UI history?\n",
    "4) Spark architecture?"
   ]
  },
  {
   "cell_type": "code",
   "execution_count": null,
   "metadata": {},
   "outputs": [],
   "source": [
    "#Write spark code to update the column names considering that columns are approximately 100.a \n",
    "\n",
    "from pyspark.sql import SparkSession\n",
    "from pyspark.sql import functions as F"
   ]
  },
  {
   "cell_type": "code",
   "execution_count": 3,
   "metadata": {},
   "outputs": [],
   "source": [
    "spark = SparkSession.builder.appName(\"Bitwise Interview\").master('local[*]').getOrCreate()"
   ]
  },
  {
   "cell_type": "code",
   "execution_count": 11,
   "metadata": {},
   "outputs": [],
   "source": [
    "data = [(1,\"John\",34),\n",
    "       (2,\"Jack\",45),\n",
    "       (4,\"Jason\",25)]\n",
    "cols = [\"col1\",\"col2\",\"col3\"]"
   ]
  },
  {
   "cell_type": "code",
   "execution_count": 12,
   "metadata": {},
   "outputs": [],
   "source": [
    "df = spark.createDataFrame(data=data, schema=cols)"
   ]
  },
  {
   "cell_type": "code",
   "execution_count": 13,
   "metadata": {},
   "outputs": [
    {
     "name": "stdout",
     "output_type": "stream",
     "text": [
      "+----+-----+----+\n",
      "|col1| col2|col3|\n",
      "+----+-----+----+\n",
      "|   1| John|  34|\n",
      "|   2| Jack|  45|\n",
      "|   4|Jason|  25|\n",
      "+----+-----+----+\n",
      "\n"
     ]
    }
   ],
   "source": [
    "df.show()"
   ]
  },
  {
   "cell_type": "code",
   "execution_count": 14,
   "metadata": {},
   "outputs": [],
   "source": [
    "new_cols = ['new_col1','new_col2','new_col3']"
   ]
  },
  {
   "cell_type": "code",
   "execution_count": 10,
   "metadata": {},
   "outputs": [
    {
     "name": "stdout",
     "output_type": "stream",
     "text": [
      "+--------+--------+--------+\n",
      "|new_col1|new_col2|new_col3|\n",
      "+--------+--------+--------+\n",
      "|       1|    John|      34|\n",
      "|       2|    Jack|      45|\n",
      "|       4|   Jason|      25|\n",
      "+--------+--------+--------+\n",
      "\n"
     ]
    }
   ],
   "source": [
    "for old_col, new_col in zip(df.columns, new_cols):\n",
    "    df = df.withColumnRenamed(old_col,new_col)\n",
    "df.show()"
   ]
  },
  {
   "cell_type": "code",
   "execution_count": 19,
   "metadata": {},
   "outputs": [
    {
     "name": "stdout",
     "output_type": "stream",
     "text": [
      "+----+-----+----+\n",
      "|col1| col2|col3|\n",
      "+----+-----+----+\n",
      "|   1| John|  34|\n",
      "|   2| Jack|  45|\n",
      "|   4|Jason|  25|\n",
      "+----+-----+----+\n",
      "\n"
     ]
    }
   ],
   "source": [
    "rename_cols = {\n",
    "    \"col1\":\"new_col1\",\n",
    "    \"col2\":\"new_col2\",\n",
    "    \"col3\":\"new_col3\"\n",
    "}\n",
    "\n",
    "\n",
    "\n",
    "\n",
    "df.show()"
   ]
  },
  {
   "cell_type": "code",
   "execution_count": 20,
   "metadata": {},
   "outputs": [
    {
     "name": "stdout",
     "output_type": "stream",
     "text": [
      "+--------+--------+--------+\n",
      "|new_col1|new_col2|new_col3|\n",
      "+--------+--------+--------+\n",
      "|       1|    John|      34|\n",
      "|       2|    Jack|      45|\n",
      "|       4|   Jason|      25|\n",
      "+--------+--------+--------+\n",
      "\n"
     ]
    }
   ],
   "source": [
    "for old_col, new_col in rename_cols.items():\n",
    "    #print(old_col)\n",
    "    #print(new_col)\n",
    "    df = df.withColumnRenamed(old_col,new_col)\n",
    "    \n",
    "df.show()"
   ]
  }
 ],
 "metadata": {
  "kernelspec": {
   "display_name": "Python 3",
   "language": "python",
   "name": "python3"
  },
  "language_info": {
   "codemirror_mode": {
    "name": "ipython",
    "version": 3
   },
   "file_extension": ".py",
   "mimetype": "text/x-python",
   "name": "python",
   "nbconvert_exporter": "python",
   "pygments_lexer": "ipython3",
   "version": "3.8.5"
  }
 },
 "nbformat": 4,
 "nbformat_minor": 4
}

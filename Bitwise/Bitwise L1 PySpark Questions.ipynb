{
 "cells": [
  {
   "cell_type": "code",
   "execution_count": null,
   "metadata": {},
   "outputs": [],
   "source": [
    "Some questions related to maintenance of spark cluster, Cache and persist. "
   ]
  },
  {
   "cell_type": "code",
   "execution_count": 1,
   "metadata": {},
   "outputs": [],
   "source": [
    "#Write Pyspark code to find 2nd highest sal for each dept\n",
    "\n",
    "# columns of dataframe are emp_id, emp_name, emp_department, emp_salary \n",
    "from pyspark.sql import Window\n",
    "from pyspark.sql import Functions as F\n",
    "\n",
    "\n",
    "window = Window.partitionBy('department').orderBy(F.col('salary').desc())\n",
    "df_with_rank = df.withColumn('rank',F.dense_rank().window)\n",
    "\n",
    "df_with_rank.filter(F.col('rank')==2).show()"
   ]
  },
  {
   "cell_type": "code",
   "execution_count": 2,
   "metadata": {},
   "outputs": [
    {
     "name": "stdout",
     "output_type": "stream",
     "text": [
      "   emp_department  third_highest_salary\n",
      "1     Engineering               80000.0\n",
      "11             HR               61000.0\n",
      "12        Finance               80000.0\n",
      "19      Marketing               68000.0\n"
     ]
    }
   ],
   "source": [
    "# Do the same for pandas dataframe\n",
    "df = pd.DataFrame(data)\n",
    "\n",
    "df['rank'] = df.groupby('emp_department')['emp_salary'].rank(method='dense', ascending=False)\n",
    "\n",
    "third_highest_salaries = df[df['rank'] == 2][['emp_department', 'emp_salary']]\n",
    "\n",
    "third_highest_salaries.columns = ['emp_department', 'third_highest_salary']\n",
    "\n",
    "print(third_highest_salaries)\n"
   ]
  }
 ],
 "metadata": {
  "kernelspec": {
   "display_name": "Python 3",
   "language": "python",
   "name": "python3"
  },
  "language_info": {
   "codemirror_mode": {
    "name": "ipython",
    "version": 3
   },
   "file_extension": ".py",
   "mimetype": "text/x-python",
   "name": "python",
   "nbconvert_exporter": "python",
   "pygments_lexer": "ipython3",
   "version": "3.8.5"
  }
 },
 "nbformat": 4,
 "nbformat_minor": 4
}

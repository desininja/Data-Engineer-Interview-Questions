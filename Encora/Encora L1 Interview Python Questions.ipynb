{
 "cells": [
  {
   "cell_type": "code",
   "execution_count": null,
   "metadata": {},
   "outputs": [],
   "source": [
    "lst = [1,2,3,4,5]\n",
    "\n",
    "# get odd and even numbers\n",
    "\n",
    "odd_lst = []\n",
    "even_lst = []\n",
    "\n",
    "for num in lst:\n",
    "    if num%2==0:\n",
    "        print(f\"{num} is Even\")\n",
    "        even_lst.append(num)\n",
    "    else:\n",
    "        print(f\"{num} is Odd\")\n",
    "        odd_lst.append(num)\n",
    "\n",
    "print(odd_lst)\n",
    "print(even_lst)"
   ]
  }
 ],
 "metadata": {
  "language_info": {
   "name": "python"
  }
 },
 "nbformat": 4,
 "nbformat_minor": 2
}

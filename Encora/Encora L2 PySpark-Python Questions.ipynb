{
 "cells": [
  {
   "cell_type": "code",
   "execution_count": null,
   "metadata": {},
   "outputs": [],
   "source": [
    "df_emp = emp_id, dept_id, emp_name, salary\n",
    "\n",
    "df_dept = dept_id, dept_name, hod\n",
    "\n",
    "#write 2nd highest salary of each dept, dept_id, dept_name,emp_name, salary\n",
    "\n",
    "from pyspark.sql import Functions as F\n",
    "from pyspark.sql import Window\n",
    "\n",
    "\n",
    "window = Window.partitionBy(F.col('dept_id')).orderBy(F.col('salary').desc())\n",
    "\n",
    "ranked_df_emp = df_emp.withColumn('rank',F.dense_rank(window))\n",
    "\n",
    "salary_2_high_df = ranked_df_emp.filter(F.col('rank')==2)\n",
    "\n",
    "final_df = salary_2_high_df.join(df_dept,salary_2_high_df.dept_id=df_dept.dept_id)\n",
    "\n",
    "final_df.select(\"dept_id\",\"dept_name\",\"emp_name\",\"salary\").show(truncate=False)"
   ]
  },
  {
   "cell_type": "code",
   "execution_count": null,
   "metadata": {},
   "outputs": [],
   "source": [
    "s = 'python is easy and python is interesting'\n",
    "\n",
    "#count the freq of each word.\n",
    "\n",
    "\n",
    "str_list = s.split()\n",
    "\n",
    "word_dic ={}\n",
    "for word in str_list:\n",
    "    if word in word_dic.keys():\n",
    "        word_dic[word]+=1\n",
    "    else:\n",
    "        word_dic[word]=1\n",
    "\n",
    "print(word_dic)"
   ]
  },
  {
   "cell_type": "code",
   "execution_count": null,
   "metadata": {},
   "outputs": [],
   "source": [
    "# How would you configure the Spark cluster for a file that is around 50 GB?\n",
    "default partion = 128 MB ( other size 256)\n",
    "\n",
    "50*1024/128 = 400\n",
    "\n",
    "total number of partitions =400\n",
    "\n",
    "no. executors\n",
    "\n",
    "no. of cores = 4 (recommended number)\n",
    "\n",
    "no. executors=  400/4 = 100\n",
    "\n",
    "default size single core = 128*4 = 512 MB\n",
    "\n",
    "total memory of single core: 512 *4 = 2048 MB, 2GB\n",
    "\n",
    "total cores 100\n",
    "2 GB\n",
    "\n",
    "100*2 GB\n",
    "\n",
    "200 GB"
   ]
  }
 ],
 "metadata": {
  "language_info": {
   "name": "python"
  }
 },
 "nbformat": 4,
 "nbformat_minor": 2
}

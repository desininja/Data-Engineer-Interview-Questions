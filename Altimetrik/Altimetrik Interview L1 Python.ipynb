{
 "cells": [
  {
   "cell_type": "code",
   "execution_count": null,
   "metadata": {
    "vscode": {
     "languageId": "python"
    }
   },
   "outputs": [
    {
     "name": "stdout",
     "output_type": "stream",
     "text": [
      "[4, 6, 8, 9]\n"
     ]
    }
   ],
   "source": [
    "#Get only the repeated values without using any in-built functions/methods.\n",
    "\n",
    "repeated_values =[2,3,4,5,6,6,7,8,8,9,9,9,4,4]\n",
    "\n",
    "n_dict = {}\n",
    "\n",
    "for ele in repeated_values:\n",
    "    if ele in n_dict.keys():\n",
    "        n_dict[ele]+=1\n",
    "    else:\n",
    "        n_dict[ele]=1\n",
    "new_list = [i for i in n_dict.keys() if n_dict[i]>1]\n",
    "print(new_list)"
   ]
  },
  {
   "cell_type": "code",
   "execution_count": null,
   "metadata": {
    "vscode": {
     "languageId": "python"
    }
   },
   "outputs": [],
   "source": [
    "#replace none with avg of that subject\n",
    "\n",
    "data = {'Name': ['John', 'Mike', 'Emma', 'Alice'],\n",
    "        'Math': [90, 80, None, 85],\n",
    "        'Science': [95, 75, 88, None]}\n",
    "\n",
    "import pandas as pd\n",
    "df = pd.DataFrame(data)\n",
    "print(df)\n",
    "print(\"Mean of maths marks \",df['Math'].mean())\n",
    "df['Math'].fillna(df['Math'].mean(),inplace=True)\n",
    "print(\"Mean of Science marks \",df['Science'].mean())\n",
    "df['Science'].fillna(df['Science'].mean(),inplace=True)"
   ]
  },
  {
   "cell_type": "code",
   "execution_count": null,
   "metadata": {
    "vscode": {
     "languageId": "python"
    }
   },
   "outputs": [
    {
     "data": {
      "text/html": [
       "<div>\n",
       "<style scoped>\n",
       "    .dataframe tbody tr th:only-of-type {\n",
       "        vertical-align: middle;\n",
       "    }\n",
       "\n",
       "    .dataframe tbody tr th {\n",
       "        vertical-align: top;\n",
       "    }\n",
       "\n",
       "    .dataframe thead th {\n",
       "        text-align: right;\n",
       "    }\n",
       "</style>\n",
       "<table border=\"1\" class=\"dataframe\">\n",
       "  <thead>\n",
       "    <tr style=\"text-align: right;\">\n",
       "      <th></th>\n",
       "      <th>Name</th>\n",
       "      <th>Math</th>\n",
       "      <th>Science</th>\n",
       "    </tr>\n",
       "  </thead>\n",
       "  <tbody>\n",
       "    <tr>\n",
       "      <th>0</th>\n",
       "      <td>John</td>\n",
       "      <td>90.0</td>\n",
       "      <td>95.0</td>\n",
       "    </tr>\n",
       "    <tr>\n",
       "      <th>1</th>\n",
       "      <td>Mike</td>\n",
       "      <td>80.0</td>\n",
       "      <td>75.0</td>\n",
       "    </tr>\n",
       "    <tr>\n",
       "      <th>2</th>\n",
       "      <td>Emma</td>\n",
       "      <td>85.0</td>\n",
       "      <td>88.0</td>\n",
       "    </tr>\n",
       "    <tr>\n",
       "      <th>3</th>\n",
       "      <td>Alice</td>\n",
       "      <td>85.0</td>\n",
       "      <td>NaN</td>\n",
       "    </tr>\n",
       "  </tbody>\n",
       "</table>\n",
       "</div>"
      ],
      "text/plain": [
       "    Name  Math  Science\n",
       "0   John  90.0     95.0\n",
       "1   Mike  80.0     75.0\n",
       "2   Emma  85.0     88.0\n",
       "3  Alice  85.0      NaN"
      ]
     },
     "execution_count": 9,
     "metadata": {},
     "output_type": "execute_result"
    }
   ],
   "source": [
    "df"
   ]
  },
  {
   "cell_type": "code",
   "execution_count": null,
   "metadata": {
    "vscode": {
     "languageId": "python"
    }
   },
   "outputs": [],
   "source": []
  },
  {
   "cell_type": "code",
   "execution_count": null,
   "metadata": {
    "vscode": {
     "languageId": "python"
    }
   },
   "outputs": [],
   "source": [
    "#Based on the below condition add the amount to existing salary\n",
    "#exp >5 add 5000 to existing salary\n",
    "#exp >10 add 10K"
   ]
  },
  {
   "cell_type": "code",
   "execution_count": null,
   "metadata": {
    "vscode": {
     "languageId": "python"
    }
   },
   "outputs": [],
   "source": [
    "import pandas as pd\n",
    "from datetime import datetime\n",
    "\n",
    "# Data\n",
    "data = {\n",
    "    'Employee_ID': [101, 102, 103],\n",
    "    'Name': ['Alice', 'Bob', 'Charlie'],\n",
    "    'Joining_Date': ['2017-05-10', '2015-06-25', '2020-08-15'],\n",
    "    'Salary': [60000, 75000, 50000]\n",
    "}\n",
    "\n",
    "\n",
    "df = pd.DataFrame(data)\n",
    "print(\"Old Dataframe: \")\n",
    "print(df)\n",
    "df['Joining_Date'] = pd.to_datetime(df['Joining_Date'])\n",
    "\n",
    "current_date = datetime.now()\n",
    "df['Experience'] = df['Joining_Date'].apply(lambda x: (current_date - x).days // 365)\n",
    "\n",
    "df['Updated_Salary'] = df['Salary'] + df['Experience'].apply(\n",
    "    lambda exp: 10000 if exp > 10 else (5000 if exp > 5 else 0)\n",
    ")\n",
    "print(\"Updated Dataframe: \")\n",
    "print(df)\n"
   ]
  },
  {
   "cell_type": "code",
   "execution_count": null,
   "metadata": {
    "vscode": {
     "languageId": "python"
    }
   },
   "outputs": [],
   "source": [
    "# Find the patients who visited hospital more than once.\n",
    "\n",
    "# Data\n",
    "data_patients = {'PatientID': [1, 2, 3, 4], 'Age': [45, 52, 29, 60]}\n",
    "data_visits = {\n",
    "    'PatientID': [1, 1, 1, 2, 2, 3, 4, 4],\n",
    "    'VisitID': [101, 102, 103, 104, 105, 106, 107, 108],\n",
    "    'Diagnosis': [\n",
    "        'Hypertension', 'Diabetes', 'Hypertension',\n",
    "        'Heart Disease', 'Heart Disease', 'Asthma',\n",
    "        'Hypertension', 'Hypertension'\n",
    "    ]\n",
    "}\n",
    "\n",
    "df_patients = pd.DataFrame(data_patients)\n",
    "df_visits = pd.DataFrame(data_visits)\n",
    "\n",
    "visit_counts = df_visits['PatientID'].value_counts()\n",
    "\n",
    "patients_more_than_twice = visit_counts[visit_counts > 2].index.tolist()\n",
    "\n",
    "print(\"Patients who visited more than twice:\", patients_more_than_twice)\n"
   ]
  },
  {
   "cell_type": "code",
   "execution_count": null,
   "metadata": {
    "vscode": {
     "languageId": "python"
    }
   },
   "outputs": [],
   "source": [
    "#Find the patients id who visited more than once for the same diagnosis.\n",
    "\n",
    "visit_counts = df_visits.groupby(['PatientID', 'Diagnosis']).size().reset_index(name='VisitCount')\n",
    "\n",
    "patients_same_diagnosis = visit_counts[visit_counts['VisitCount'] > 1]['PatientID'].unique()\n",
    "\n",
    "print(\"Patients who visited more than once for the same diagnosis:\", patients_same_diagnosis)\n"
   ]
  }
 ],
 "metadata": {
  "kernelspec": {
   "display_name": "Spark",
   "language": "scala",
   "name": "sparkkernel"
  },
  "language_info": {
   "codemirror_mode": {
    "name": "ipython",
    "version": 3
   },
   "file_extension": ".py",
   "mimetype": "text/x-python",
   "name": "scala",
   "nbconvert_exporter": "python",
   "pygments_lexer": "ipython3",
   "version": "3.8.5"
  }
 },
 "nbformat": 4,
 "nbformat_minor": 4
}

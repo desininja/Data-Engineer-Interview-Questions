{
 "cells": [
  {
   "cell_type": "code",
   "execution_count": 1,
   "metadata": {},
   "outputs": [],
   "source": [
    "from pyspark.sql import SparkSession\n",
    "from pyspark.sql import functions as F"
   ]
  },
  {
   "cell_type": "code",
   "execution_count": 2,
   "metadata": {},
   "outputs": [],
   "source": [
    "spark = SparkSession.builder.appName(\"Pexample\").getOrCreate()"
   ]
  },
  {
   "cell_type": "code",
   "execution_count": 3,
   "metadata": {},
   "outputs": [],
   "source": [
    "data = [\n",
    "    ('2024-10-05 12:34:56', 'param1', 10),\n",
    "    ('2024-10-05 12:45:00', 'param1', 20),\n",
    "    ('2024-10-05 13:05:00', 'param2', 30),\n",
    "    ('2024-10-05 13:30:00', 'param1', 40),\n",
    "]"
   ]
  },
  {
   "cell_type": "code",
   "execution_count": 6,
   "metadata": {},
   "outputs": [
    {
     "name": "stdout",
     "output_type": "stream",
     "text": [
      "+-------------------+------+-----+\n",
      "|               time| param|value|\n",
      "+-------------------+------+-----+\n",
      "|2024-10-05 12:34:56|param1|   10|\n",
      "|2024-10-05 12:45:00|param1|   20|\n",
      "|2024-10-05 13:05:00|param2|   30|\n",
      "|2024-10-05 13:30:00|param1|   40|\n",
      "+-------------------+------+-----+\n",
      "\n"
     ]
    }
   ],
   "source": [
    "df = spark.createDataFrame(data,['time','param','value'])\n",
    "df.show()"
   ]
  },
  {
   "cell_type": "code",
   "execution_count": 7,
   "metadata": {},
   "outputs": [
    {
     "name": "stdout",
     "output_type": "stream",
     "text": [
      "root\n",
      " |-- time: string (nullable = true)\n",
      " |-- param: string (nullable = true)\n",
      " |-- value: long (nullable = true)\n",
      "\n"
     ]
    }
   ],
   "source": [
    "df.withColumn('time',F.to_timestamp(F.col('time')))\n",
    "df.printSchema()"
   ]
  },
  {
   "cell_type": "code",
   "execution_count": 8,
   "metadata": {},
   "outputs": [
    {
     "name": "stdout",
     "output_type": "stream",
     "text": [
      "+-------------------+------+-----+\n",
      "|               time| param|value|\n",
      "+-------------------+------+-----+\n",
      "|2024-10-05 12:34:56|param1|   10|\n",
      "|2024-10-05 12:45:00|param1|   20|\n",
      "|2024-10-05 13:05:00|param2|   30|\n",
      "|2024-10-05 13:30:00|param1|   40|\n",
      "+-------------------+------+-----+\n",
      "\n"
     ]
    }
   ],
   "source": [
    "df.show()"
   ]
  },
  {
   "cell_type": "code",
   "execution_count": 11,
   "metadata": {},
   "outputs": [
    {
     "name": "stdout",
     "output_type": "stream",
     "text": [
      "+-------------------+------+---------+\n",
      "|         time_hours| param|Avg_value|\n",
      "+-------------------+------+---------+\n",
      "|2024-10-05 12:00:00|param1|     15.0|\n",
      "|2024-10-05 13:00:00|param2|     30.0|\n",
      "|2024-10-05 13:00:00|param1|     40.0|\n",
      "+-------------------+------+---------+\n",
      "\n"
     ]
    }
   ],
   "source": [
    "df.groupBy(F.date_trunc('hour',F.col(\"time\")).alias('time_hours'), 'param').agg(F.avg(F.col('value')).alias(\"Avg_value\")).show()"
   ]
  },
  {
   "cell_type": "code",
   "execution_count": 13,
   "metadata": {},
   "outputs": [],
   "source": [
    "from pyspark.sql.types import StructType, StructField, IntegerType, StringType, FloatType"
   ]
  },
  {
   "cell_type": "code",
   "execution_count": 14,
   "metadata": {},
   "outputs": [],
   "source": [
    "schema = StructType([\n",
    "    StructField(\"emp_id\", IntegerType(), True),       # Employee ID\n",
    "    StructField(\"emp_name\", StringType(), True),     # Employee Name\n",
    "    StructField(\"emp_department\", StringType(), True), # Employee Department\n",
    "    StructField(\"emp_salary\", FloatType(), True)      # Employee Salary\n",
    "])"
   ]
  },
  {
   "cell_type": "code",
   "execution_count": 15,
   "metadata": {},
   "outputs": [],
   "source": [
    "data = [\n",
    "    # Engineering Department\n",
    "    (1, \"Alice Johnson\", \"Engineering\", 75000.0),\n",
    "    (2, \"Bob Smith\", \"Engineering\", 80000.0),\n",
    "    (3, \"Charlie Brown\", \"Engineering\", 72000.0),\n",
    "    (4, \"David Wilson\", \"Engineering\", 68000.0),\n",
    "    (5, \"Eva Green\", \"Engineering\", 90000.0),\n",
    "    (6, \"Frank Wright\", \"Engineering\", 85000.0),\n",
    "    \n",
    "    # HR Department\n",
    "    (7, \"Gina Roberts\", \"HR\", 60000.0),\n",
    "    (8, \"Henry Ford\", \"HR\", 62000.0),\n",
    "    (9, \"Ivy Adams\", \"HR\", 58000.0),\n",
    "    (10, \"Jack Nelson\", \"HR\", 65000.0),\n",
    "    (11, \"Kathy Lee\", \"HR\", 59000.0),\n",
    "    (12, \"Laura King\", \"HR\", 61000.0),\n",
    "    \n",
    "    # Finance Department\n",
    "    (13, \"Michael Scott\", \"Finance\", 80000.0),\n",
    "    (14, \"Nina Patel\", \"Finance\", 82000.0),\n",
    "    (15, \"Oscar Martinez\", \"Finance\", 78000.0),\n",
    "    (16, \"Pam Beesly\", \"Finance\", 77000.0),\n",
    "    (17, \"Quinn Kim\", \"Finance\", 79000.0),\n",
    "    (18, \"Rita Thomas\", \"Finance\", 81000.0),\n",
    "\n",
    "    # Marketing Department\n",
    "    (19, \"Sam Brown\", \"Marketing\", 65000.0),\n",
    "    (20, \"Tina Turner\", \"Marketing\", 68000.0),\n",
    "    (21, \"Ursula White\", \"Marketing\", 67000.0),\n",
    "    (22, \"Victor Hugo\", \"Marketing\", 66000.0),\n",
    "    (23, \"Wendy Lee\", \"Marketing\", 69000.0),\n",
    "    (24, \"Xena Gold\", \"Marketing\", 72000.0)\n",
    "]"
   ]
  },
  {
   "cell_type": "code",
   "execution_count": 16,
   "metadata": {},
   "outputs": [
    {
     "name": "stdout",
     "output_type": "stream",
     "text": [
      "+------+--------------+--------------+----------+\n",
      "|emp_id|      emp_name|emp_department|emp_salary|\n",
      "+------+--------------+--------------+----------+\n",
      "|     1| Alice Johnson|   Engineering|   75000.0|\n",
      "|     2|     Bob Smith|   Engineering|   80000.0|\n",
      "|     3| Charlie Brown|   Engineering|   72000.0|\n",
      "|     4|  David Wilson|   Engineering|   68000.0|\n",
      "|     5|     Eva Green|   Engineering|   90000.0|\n",
      "|     6|  Frank Wright|   Engineering|   85000.0|\n",
      "|     7|  Gina Roberts|            HR|   60000.0|\n",
      "|     8|    Henry Ford|            HR|   62000.0|\n",
      "|     9|     Ivy Adams|            HR|   58000.0|\n",
      "|    10|   Jack Nelson|            HR|   65000.0|\n",
      "|    11|     Kathy Lee|            HR|   59000.0|\n",
      "|    12|    Laura King|            HR|   61000.0|\n",
      "|    13| Michael Scott|       Finance|   80000.0|\n",
      "|    14|    Nina Patel|       Finance|   82000.0|\n",
      "|    15|Oscar Martinez|       Finance|   78000.0|\n",
      "|    16|    Pam Beesly|       Finance|   77000.0|\n",
      "|    17|     Quinn Kim|       Finance|   79000.0|\n",
      "|    18|   Rita Thomas|       Finance|   81000.0|\n",
      "|    19|     Sam Brown|     Marketing|   65000.0|\n",
      "|    20|   Tina Turner|     Marketing|   68000.0|\n",
      "+------+--------------+--------------+----------+\n",
      "only showing top 20 rows\n",
      "\n"
     ]
    }
   ],
   "source": [
    "df = spark.createDataFrame(data,schema)\n",
    "df.show()"
   ]
  },
  {
   "cell_type": "code",
   "execution_count": 19,
   "metadata": {},
   "outputs": [],
   "source": [
    "#find third highest salary\n",
    "\n",
    "third_highest_sal = df.orderBy('emp_salary',ascending=False).limit(3).tail(1)"
   ]
  },
  {
   "cell_type": "code",
   "execution_count": 21,
   "metadata": {},
   "outputs": [
    {
     "data": {
      "text/plain": [
       "[Row(emp_id=14, emp_name='Nina Patel', emp_department='Finance', emp_salary=82000.0)]"
      ]
     },
     "execution_count": 21,
     "metadata": {},
     "output_type": "execute_result"
    }
   ],
   "source": [
    "third_highest_sal"
   ]
  },
  {
   "cell_type": "code",
   "execution_count": 22,
   "metadata": {},
   "outputs": [],
   "source": [
    "#Second highest salary in each department\n",
    "\n",
    "from pyspark.sql import Window"
   ]
  },
  {
   "cell_type": "code",
   "execution_count": 24,
   "metadata": {},
   "outputs": [],
   "source": [
    "window = Window.partitionBy(F.col('emp_department')).orderBy(F.col('emp_salary').desc())"
   ]
  },
  {
   "cell_type": "code",
   "execution_count": 26,
   "metadata": {},
   "outputs": [
    {
     "name": "stdout",
     "output_type": "stream",
     "text": [
      "+------+--------------+--------------+----------+----+\n",
      "|emp_id|      emp_name|emp_department|emp_salary|rank|\n",
      "+------+--------------+--------------+----------+----+\n",
      "|     5|     Eva Green|   Engineering|   90000.0|   1|\n",
      "|     6|  Frank Wright|   Engineering|   85000.0|   2|\n",
      "|     2|     Bob Smith|   Engineering|   80000.0|   3|\n",
      "|     1| Alice Johnson|   Engineering|   75000.0|   4|\n",
      "|     3| Charlie Brown|   Engineering|   72000.0|   5|\n",
      "|     4|  David Wilson|   Engineering|   68000.0|   6|\n",
      "|    14|    Nina Patel|       Finance|   82000.0|   1|\n",
      "|    18|   Rita Thomas|       Finance|   81000.0|   2|\n",
      "|    13| Michael Scott|       Finance|   80000.0|   3|\n",
      "|    17|     Quinn Kim|       Finance|   79000.0|   4|\n",
      "|    15|Oscar Martinez|       Finance|   78000.0|   5|\n",
      "|    16|    Pam Beesly|       Finance|   77000.0|   6|\n",
      "|    10|   Jack Nelson|            HR|   65000.0|   1|\n",
      "|     8|    Henry Ford|            HR|   62000.0|   2|\n",
      "|    12|    Laura King|            HR|   61000.0|   3|\n",
      "|     7|  Gina Roberts|            HR|   60000.0|   4|\n",
      "|    11|     Kathy Lee|            HR|   59000.0|   5|\n",
      "|     9|     Ivy Adams|            HR|   58000.0|   6|\n",
      "|    24|     Xena Gold|     Marketing|   72000.0|   1|\n",
      "|    23|     Wendy Lee|     Marketing|   69000.0|   2|\n",
      "+------+--------------+--------------+----------+----+\n",
      "only showing top 20 rows\n",
      "\n"
     ]
    }
   ],
   "source": [
    "df_rank = df.withColumn('rank',F.dense_rank().over(window))\n",
    "df_rank.show()"
   ]
  },
  {
   "cell_type": "code",
   "execution_count": 28,
   "metadata": {},
   "outputs": [
    {
     "name": "stdout",
     "output_type": "stream",
     "text": [
      "+------+-------------+--------------+----------+----+\n",
      "|emp_id|     emp_name|emp_department|emp_salary|rank|\n",
      "+------+-------------+--------------+----------+----+\n",
      "|     2|    Bob Smith|   Engineering|   80000.0|   3|\n",
      "|    13|Michael Scott|       Finance|   80000.0|   3|\n",
      "|    12|   Laura King|            HR|   61000.0|   3|\n",
      "|    20|  Tina Turner|     Marketing|   68000.0|   3|\n",
      "+------+-------------+--------------+----------+----+\n",
      "\n"
     ]
    }
   ],
   "source": [
    "df_rank.filter(F.col('rank')==3).show()"
   ]
  },
  {
   "cell_type": "code",
   "execution_count": 32,
   "metadata": {},
   "outputs": [
    {
     "name": "stdout",
     "output_type": "stream",
     "text": [
      "{1: 1, 2: 4, 3: 27, 4: 16, 5: 125, 6: 36, 7: 343, 8: 64, 9: 729, 10: 100}\n"
     ]
    }
   ],
   "source": [
    "def di(x):\n",
    "    return {i:(i**2 if i%2==0 else i**3) for i in range(1,x+1)}\n",
    "print(di(10))"
   ]
  },
  {
   "cell_type": "code",
   "execution_count": 33,
   "metadata": {},
   "outputs": [
    {
     "name": "stdout",
     "output_type": "stream",
     "text": [
      "Counter({4: 3, 9: 3, 6: 2, 8: 2, 2: 1, 3: 1, 5: 1, 7: 1})\n"
     ]
    }
   ],
   "source": [
    "repeated_values =[2,3,4,5,6,6,7,8,8,9,9,9,4,4]\n",
    "#get the values which are repeated more than once\n",
    "\n",
    "from collections import Counter\n",
    "counts = Counter(repeated_values)\n",
    "print(counts)"
   ]
  },
  {
   "cell_type": "code",
   "execution_count": 34,
   "metadata": {},
   "outputs": [],
   "source": [
    "new_lst = []\n",
    "for key,value in counts.items():\n",
    "    if value>1:\n",
    "        new_lst.append(key)\n",
    "    else:\n",
    "        continue"
   ]
  },
  {
   "cell_type": "code",
   "execution_count": 35,
   "metadata": {},
   "outputs": [
    {
     "data": {
      "text/plain": [
       "[4, 6, 8, 9]"
      ]
     },
     "execution_count": 35,
     "metadata": {},
     "output_type": "execute_result"
    }
   ],
   "source": [
    "new_lst"
   ]
  },
  {
   "cell_type": "code",
   "execution_count": 36,
   "metadata": {},
   "outputs": [
    {
     "name": "stdout",
     "output_type": "stream",
     "text": [
      "[8, 9, 4, 6]\n"
     ]
    }
   ],
   "source": [
    "seen = set()\n",
    "repeated = set()\n",
    "\n",
    "for ele in repeated_values:\n",
    "    if ele in seen:\n",
    "        repeated.add(ele)\n",
    "    else:\n",
    "        seen.add(ele)\n",
    "print(list(repeated))"
   ]
  },
  {
   "cell_type": "code",
   "execution_count": 37,
   "metadata": {},
   "outputs": [],
   "source": [
    "import pandas as pd\n",
    "from datetime import datetime\n",
    "\n",
    "# Your data\n",
    "data = {\n",
    "    'Employee_ID': [101, 102, 103],\n",
    "    'Name': ['Alice', 'Bob', 'Charlie'],\n",
    "    'Joining_Date': ['2017-05-10', '2015-06-25', '2020-08-15'],\n",
    "    'Salary': [60000, 75000, 50000]\n",
    "}\n",
    "\n",
    "# Convert to DataFrame\n",
    "df = pd.DataFrame(data)"
   ]
  },
  {
   "cell_type": "code",
   "execution_count": 38,
   "metadata": {},
   "outputs": [
    {
     "data": {
      "text/html": [
       "<div>\n",
       "<style scoped>\n",
       "    .dataframe tbody tr th:only-of-type {\n",
       "        vertical-align: middle;\n",
       "    }\n",
       "\n",
       "    .dataframe tbody tr th {\n",
       "        vertical-align: top;\n",
       "    }\n",
       "\n",
       "    .dataframe thead th {\n",
       "        text-align: right;\n",
       "    }\n",
       "</style>\n",
       "<table border=\"1\" class=\"dataframe\">\n",
       "  <thead>\n",
       "    <tr style=\"text-align: right;\">\n",
       "      <th></th>\n",
       "      <th>Employee_ID</th>\n",
       "      <th>Name</th>\n",
       "      <th>Joining_Date</th>\n",
       "      <th>Salary</th>\n",
       "    </tr>\n",
       "  </thead>\n",
       "  <tbody>\n",
       "    <tr>\n",
       "      <th>0</th>\n",
       "      <td>101</td>\n",
       "      <td>Alice</td>\n",
       "      <td>2017-05-10</td>\n",
       "      <td>60000</td>\n",
       "    </tr>\n",
       "    <tr>\n",
       "      <th>1</th>\n",
       "      <td>102</td>\n",
       "      <td>Bob</td>\n",
       "      <td>2015-06-25</td>\n",
       "      <td>75000</td>\n",
       "    </tr>\n",
       "    <tr>\n",
       "      <th>2</th>\n",
       "      <td>103</td>\n",
       "      <td>Charlie</td>\n",
       "      <td>2020-08-15</td>\n",
       "      <td>50000</td>\n",
       "    </tr>\n",
       "  </tbody>\n",
       "</table>\n",
       "</div>"
      ],
      "text/plain": [
       "   Employee_ID     Name Joining_Date  Salary\n",
       "0          101    Alice   2017-05-10   60000\n",
       "1          102      Bob   2015-06-25   75000\n",
       "2          103  Charlie   2020-08-15   50000"
      ]
     },
     "execution_count": 38,
     "metadata": {},
     "output_type": "execute_result"
    }
   ],
   "source": [
    "\n",
    "df"
   ]
  },
  {
   "cell_type": "code",
   "execution_count": 39,
   "metadata": {},
   "outputs": [],
   "source": [
    "df['Joining_Date'] = pd.to_datetime(df['Joining_Date'])"
   ]
  },
  {
   "cell_type": "code",
   "execution_count": 40,
   "metadata": {},
   "outputs": [
    {
     "data": {
      "text/html": [
       "<div>\n",
       "<style scoped>\n",
       "    .dataframe tbody tr th:only-of-type {\n",
       "        vertical-align: middle;\n",
       "    }\n",
       "\n",
       "    .dataframe tbody tr th {\n",
       "        vertical-align: top;\n",
       "    }\n",
       "\n",
       "    .dataframe thead th {\n",
       "        text-align: right;\n",
       "    }\n",
       "</style>\n",
       "<table border=\"1\" class=\"dataframe\">\n",
       "  <thead>\n",
       "    <tr style=\"text-align: right;\">\n",
       "      <th></th>\n",
       "      <th>Employee_ID</th>\n",
       "      <th>Name</th>\n",
       "      <th>Joining_Date</th>\n",
       "      <th>Salary</th>\n",
       "    </tr>\n",
       "  </thead>\n",
       "  <tbody>\n",
       "    <tr>\n",
       "      <th>0</th>\n",
       "      <td>101</td>\n",
       "      <td>Alice</td>\n",
       "      <td>2017-05-10</td>\n",
       "      <td>60000</td>\n",
       "    </tr>\n",
       "    <tr>\n",
       "      <th>1</th>\n",
       "      <td>102</td>\n",
       "      <td>Bob</td>\n",
       "      <td>2015-06-25</td>\n",
       "      <td>75000</td>\n",
       "    </tr>\n",
       "    <tr>\n",
       "      <th>2</th>\n",
       "      <td>103</td>\n",
       "      <td>Charlie</td>\n",
       "      <td>2020-08-15</td>\n",
       "      <td>50000</td>\n",
       "    </tr>\n",
       "  </tbody>\n",
       "</table>\n",
       "</div>"
      ],
      "text/plain": [
       "   Employee_ID     Name Joining_Date  Salary\n",
       "0          101    Alice   2017-05-10   60000\n",
       "1          102      Bob   2015-06-25   75000\n",
       "2          103  Charlie   2020-08-15   50000"
      ]
     },
     "execution_count": 40,
     "metadata": {},
     "output_type": "execute_result"
    }
   ],
   "source": [
    "df"
   ]
  },
  {
   "cell_type": "code",
   "execution_count": 41,
   "metadata": {},
   "outputs": [],
   "source": [
    "df['experience'] = (datetime.now()-df['Joining_Date']).dt.days//365"
   ]
  },
  {
   "cell_type": "code",
   "execution_count": 42,
   "metadata": {},
   "outputs": [
    {
     "data": {
      "text/html": [
       "<div>\n",
       "<style scoped>\n",
       "    .dataframe tbody tr th:only-of-type {\n",
       "        vertical-align: middle;\n",
       "    }\n",
       "\n",
       "    .dataframe tbody tr th {\n",
       "        vertical-align: top;\n",
       "    }\n",
       "\n",
       "    .dataframe thead th {\n",
       "        text-align: right;\n",
       "    }\n",
       "</style>\n",
       "<table border=\"1\" class=\"dataframe\">\n",
       "  <thead>\n",
       "    <tr style=\"text-align: right;\">\n",
       "      <th></th>\n",
       "      <th>Employee_ID</th>\n",
       "      <th>Name</th>\n",
       "      <th>Joining_Date</th>\n",
       "      <th>Salary</th>\n",
       "      <th>experience</th>\n",
       "    </tr>\n",
       "  </thead>\n",
       "  <tbody>\n",
       "    <tr>\n",
       "      <th>0</th>\n",
       "      <td>101</td>\n",
       "      <td>Alice</td>\n",
       "      <td>2017-05-10</td>\n",
       "      <td>60000</td>\n",
       "      <td>7</td>\n",
       "    </tr>\n",
       "    <tr>\n",
       "      <th>1</th>\n",
       "      <td>102</td>\n",
       "      <td>Bob</td>\n",
       "      <td>2015-06-25</td>\n",
       "      <td>75000</td>\n",
       "      <td>9</td>\n",
       "    </tr>\n",
       "    <tr>\n",
       "      <th>2</th>\n",
       "      <td>103</td>\n",
       "      <td>Charlie</td>\n",
       "      <td>2020-08-15</td>\n",
       "      <td>50000</td>\n",
       "      <td>4</td>\n",
       "    </tr>\n",
       "  </tbody>\n",
       "</table>\n",
       "</div>"
      ],
      "text/plain": [
       "   Employee_ID     Name Joining_Date  Salary  experience\n",
       "0          101    Alice   2017-05-10   60000           7\n",
       "1          102      Bob   2015-06-25   75000           9\n",
       "2          103  Charlie   2020-08-15   50000           4"
      ]
     },
     "execution_count": 42,
     "metadata": {},
     "output_type": "execute_result"
    }
   ],
   "source": [
    "df"
   ]
  },
  {
   "cell_type": "code",
   "execution_count": 43,
   "metadata": {},
   "outputs": [],
   "source": [
    "def update_salary(row):\n",
    "    if row['experience'] > 10:\n",
    "        return row['Salary']+10000\n",
    "    elif row['experience'] >5:\n",
    "        return row['Salary']+5000\n",
    "    else:\n",
    "        return row['Salary']\n",
    "df['Salary'] = df.apply(update_salary,axis=1)"
   ]
  },
  {
   "cell_type": "code",
   "execution_count": 44,
   "metadata": {},
   "outputs": [
    {
     "data": {
      "text/html": [
       "<div>\n",
       "<style scoped>\n",
       "    .dataframe tbody tr th:only-of-type {\n",
       "        vertical-align: middle;\n",
       "    }\n",
       "\n",
       "    .dataframe tbody tr th {\n",
       "        vertical-align: top;\n",
       "    }\n",
       "\n",
       "    .dataframe thead th {\n",
       "        text-align: right;\n",
       "    }\n",
       "</style>\n",
       "<table border=\"1\" class=\"dataframe\">\n",
       "  <thead>\n",
       "    <tr style=\"text-align: right;\">\n",
       "      <th></th>\n",
       "      <th>Employee_ID</th>\n",
       "      <th>Name</th>\n",
       "      <th>Joining_Date</th>\n",
       "      <th>Salary</th>\n",
       "      <th>experience</th>\n",
       "    </tr>\n",
       "  </thead>\n",
       "  <tbody>\n",
       "    <tr>\n",
       "      <th>0</th>\n",
       "      <td>101</td>\n",
       "      <td>Alice</td>\n",
       "      <td>2017-05-10</td>\n",
       "      <td>65000</td>\n",
       "      <td>7</td>\n",
       "    </tr>\n",
       "    <tr>\n",
       "      <th>1</th>\n",
       "      <td>102</td>\n",
       "      <td>Bob</td>\n",
       "      <td>2015-06-25</td>\n",
       "      <td>80000</td>\n",
       "      <td>9</td>\n",
       "    </tr>\n",
       "    <tr>\n",
       "      <th>2</th>\n",
       "      <td>103</td>\n",
       "      <td>Charlie</td>\n",
       "      <td>2020-08-15</td>\n",
       "      <td>50000</td>\n",
       "      <td>4</td>\n",
       "    </tr>\n",
       "  </tbody>\n",
       "</table>\n",
       "</div>"
      ],
      "text/plain": [
       "   Employee_ID     Name Joining_Date  Salary  experience\n",
       "0          101    Alice   2017-05-10   65000           7\n",
       "1          102      Bob   2015-06-25   80000           9\n",
       "2          103  Charlie   2020-08-15   50000           4"
      ]
     },
     "execution_count": 44,
     "metadata": {},
     "output_type": "execute_result"
    }
   ],
   "source": [
    "df"
   ]
  },
  {
   "cell_type": "code",
   "execution_count": null,
   "metadata": {},
   "outputs": [],
   "source": []
  }
 ],
 "metadata": {
  "kernelspec": {
   "display_name": "Python 3",
   "language": "python",
   "name": "python3"
  },
  "language_info": {
   "codemirror_mode": {
    "name": "ipython",
    "version": 3
   },
   "file_extension": ".py",
   "mimetype": "text/x-python",
   "name": "python",
   "nbconvert_exporter": "python",
   "pygments_lexer": "ipython3",
   "version": "3.8.5"
  }
 },
 "nbformat": 4,
 "nbformat_minor": 4
}

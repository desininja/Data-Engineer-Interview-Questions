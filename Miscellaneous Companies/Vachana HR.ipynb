{
 "cells": [
  {
   "cell_type": "code",
   "execution_count": 1,
   "metadata": {},
   "outputs": [],
   "source": [
    "# function to tak any int and return dic from keys and uptill that int values square of key if key is odd cube\n",
    "\n",
    "#10 \n",
    "\n",
    "#{1:1,2:4,3:27}\n",
    "\n",
    "\n",
    "def dict_func(x):\n",
    "    new_dict={}\n",
    "    \n",
    "    for i in range(1,x+1):\n",
    "        if i%2==0:\n",
    "            new_dict[i]=i**2\n",
    "        else:\n",
    "            new_dict[i]=i**3\n",
    "    return new_dict"
   ]
  },
  {
   "cell_type": "code",
   "execution_count": 4,
   "metadata": {},
   "outputs": [
    {
     "name": "stdout",
     "output_type": "stream",
     "text": [
      "{1: 1, 2: 4, 3: 27, 4: 16, 5: 125, 6: 36, 7: 343, 8: 64, 9: 729, 10: 100}\n"
     ]
    }
   ],
   "source": [
    "print(dict_func(10))\n"
   ]
  },
  {
   "cell_type": "code",
   "execution_count": 3,
   "metadata": {},
   "outputs": [],
   "source": [
    "def dict_func(x):\n",
    "    return {i:(i**2 if i%2==0 else i**3) for i in range(1,x+1)}"
   ]
  },
  {
   "cell_type": "code",
   "execution_count": 2,
   "metadata": {},
   "outputs": [
    {
     "name": "stdout",
     "output_type": "stream",
     "text": [
      "{1: 1, 2: 4, 3: 27, 4: 16, 5: 125, 6: 36, 7: 343, 8: 64, 9: 729, 10: 100}\n"
     ]
    }
   ],
   "source": [
    "# function to tak any int and return dic from keys and uptill that int values square of key if key is odd cube\n",
    "\n",
    "#10 \n",
    "\n",
    "#{1:1,2:4,3:27}\n",
    "\n",
    "\n",
    "\n",
    "def cube_square(x):\n",
    "    new_dict={}\n",
    "    \n",
    "    for i in range(1,x+1):\n",
    "        if i%2==0:\n",
    "            new_dict[i]=i**2\n",
    "        else:\n",
    "            new_dict[i]=i**3\n",
    "    return new_dict\n",
    "print(cube_square(10))"
   ]
  },
  {
   "cell_type": "code",
   "execution_count": null,
   "metadata": {},
   "outputs": [],
   "source": [
    "def dict_comprehension(x):"
   ]
  }
 ],
 "metadata": {
  "kernelspec": {
   "display_name": "Python 3",
   "language": "python",
   "name": "python3"
  },
  "language_info": {
   "codemirror_mode": {
    "name": "ipython",
    "version": 3
   },
   "file_extension": ".py",
   "mimetype": "text/x-python",
   "name": "python",
   "nbconvert_exporter": "python",
   "pygments_lexer": "ipython3",
   "version": "3.8.5"
  }
 },
 "nbformat": 4,
 "nbformat_minor": 4
}

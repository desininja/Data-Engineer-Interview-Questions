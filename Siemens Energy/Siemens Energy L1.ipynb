{
 "cells": [
  {
   "cell_type": "code",
   "execution_count": 3,
   "metadata": {},
   "outputs": [
    {
     "name": "stdout",
     "output_type": "stream",
     "text": [
      "36\n"
     ]
    }
   ],
   "source": [
    "## write a function that return x**y with using the ** operator\n",
    "\n",
    "def power_func(x,y):\n",
    "    num=1\n",
    "    for i in range(1,y+1):\n",
    "        num*=x\n",
    "    return num\n",
    "\n",
    "\n",
    "print(power_func(6,2))"
   ]
  },
  {
   "cell_type": "code",
   "execution_count": 6,
   "metadata": {},
   "outputs": [
    {
     "name": "stdout",
     "output_type": "stream",
     "text": [
      "25\n"
     ]
    }
   ],
   "source": [
    "#takes in int, divides in half (divides only even number return last divisible value)\n",
    "\n",
    "def divide_func(x):\n",
    "    \n",
    "    while x%2==0:\n",
    "        \n",
    "        x=x//2\n",
    "    return x\n",
    "print(divide_func(100))\n",
    "    "
   ]
  },
  {
   "cell_type": "code",
   "execution_count": 7,
   "metadata": {},
   "outputs": [],
   "source": [
    "def divide_func_recur(x):\n",
    "    if x%2==0:\n",
    "        x=x//2\n",
    "        return divide_func_recur(x)\n",
    "    else:\n",
    "        return x"
   ]
  },
  {
   "cell_type": "code",
   "execution_count": 8,
   "metadata": {},
   "outputs": [
    {
     "name": "stdout",
     "output_type": "stream",
     "text": [
      "25\n"
     ]
    }
   ],
   "source": [
    "print(divide_func_recur(100))"
   ]
  }
 ],
 "metadata": {
  "kernelspec": {
   "display_name": "Python 3",
   "language": "python",
   "name": "python3"
  },
  "language_info": {
   "codemirror_mode": {
    "name": "ipython",
    "version": 3
   },
   "file_extension": ".py",
   "mimetype": "text/x-python",
   "name": "python",
   "nbconvert_exporter": "python",
   "pygments_lexer": "ipython3",
   "version": "3.8.5"
  }
 },
 "nbformat": 4,
 "nbformat_minor": 4
}
